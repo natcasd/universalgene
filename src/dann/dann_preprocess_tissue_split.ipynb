{
 "cells": [
  {
   "cell_type": "code",
   "execution_count": 1,
   "metadata": {},
   "outputs": [],
   "source": [
    "import scanpy as sc\n",
    "import pandas as pd\n",
    "\n",
    "tm_droplet_data = sc.read(\n",
    "    r'../data/tabula_muris/TM_droplet.h5ad',\n",
    ")\n",
    "tm_facs_data = sc.read(\n",
    "    r'../data/tabula_muris/TM_facs.h5ad',\n",
    ")"
   ]
  },
  {
   "cell_type": "code",
   "execution_count": 2,
   "metadata": {},
   "outputs": [
    {
     "data": {
      "text/plain": [
       "AnnData object with n_obs × n_vars = 245389 × 20138\n",
       "    obs: 'age', 'cell', 'cell_ontology_class', 'cell_ontology_id', 'free_annotation', 'method', 'mouse.id', 'n_genes', 'sex', 'subtissue', 'tissue', 'tissue_free_annotation'\n",
       "    var: 'n_cells'"
      ]
     },
     "execution_count": 2,
     "metadata": {},
     "output_type": "execute_result"
    }
   ],
   "source": [
    "tm_droplet_data"
   ]
  },
  {
   "cell_type": "code",
   "execution_count": 3,
   "id": "8a66933e",
   "metadata": {},
   "outputs": [
    {
     "data": {
      "text/plain": [
       "['keratinocyte', 'basal cell of epidermis', 'Langerhans cell', 'fibroblast of cardiac tissue', 'leukocyte', ..., 'basal epithelial cell of tracheobronchial tree', 'chondrocyte', 'neuroendocrine cell', 'blood cell', 'smooth muscle cell of trachea']\n",
       "Length: 123\n",
       "Categories (123, object): ['B cell', 'CD4-positive, alpha-beta T cell', 'CD8-positive, alpha-beta T cell', 'DN3 thymocyte', ..., 'stromal cell', 'thymocyte', 'type II pneumocyte', 'vein endothelial cell']"
      ]
     },
     "execution_count": 3,
     "metadata": {},
     "output_type": "execute_result"
    }
   ],
   "source": [
    "# List all tissue types in tm_droplet_data\n",
    "tm_droplet_data.obs[\"tissue\"].unique()\n",
    "# List all tissue types in tm_facs_data\n",
    "tm_facs_data.obs[\"tissue\"].unique()\n",
    "# List all cell types in tm_droplet_data\n",
    "tm_droplet_data.obs[\"cell_ontology_class\"].unique()\n"
   ]
  },
  {
   "cell_type": "code",
   "execution_count": 4,
   "metadata": {},
   "outputs": [],
   "source": [
    "# Filter only for cells with valid cell ontology class\n",
    "tm_droplet_data = tm_droplet_data[\n",
    "    (~tm_droplet_data.obs.cell_ontology_class.isna())\n",
    "].copy()\n",
    "tm_facs_data = tm_facs_data[\n",
    "    (~tm_facs_data.obs.cell_ontology_class.isna())\n",
    "].copy()\n",
    "\n",
    "# Add technology labels\n",
    "tm_droplet_data.obs[\"tech\"] = \"10x\"\n",
    "tm_facs_data.obs[\"tech\"] = \"SS2\""
   ]
  },
  {
   "cell_type": "code",
   "execution_count": 5,
   "metadata": {},
   "outputs": [
    {
     "data": {
      "application/vnd.microsoft.datawrangler.viewer.v0+json": {
       "columns": [
        {
         "name": "index",
         "rawType": "object",
         "type": "string"
        },
        {
         "name": "1",
         "rawType": "float64",
         "type": "float"
        }
       ],
       "conversionMethod": "pd.DataFrame",
       "ref": "c9041201-c8be-44de-b250-800cba6b3805",
       "rows": [
        [
         "0610007C21Rik",
         "94.5714285714286"
        ],
        [
         "0610007L01Rik",
         "156.0"
        ],
        [
         "0610007P08Rik",
         "202.272727272727"
        ],
        [
         "0610007P14Rik",
         "104.0"
        ],
        [
         "0610007P22Rik",
         "158.75"
        ]
       ],
       "shape": {
        "columns": 1,
        "rows": 5
       }
      },
      "text/html": [
       "<div>\n",
       "<style scoped>\n",
       "    .dataframe tbody tr th:only-of-type {\n",
       "        vertical-align: middle;\n",
       "    }\n",
       "\n",
       "    .dataframe tbody tr th {\n",
       "        vertical-align: top;\n",
       "    }\n",
       "\n",
       "    .dataframe thead th {\n",
       "        text-align: right;\n",
       "    }\n",
       "</style>\n",
       "<table border=\"1\" class=\"dataframe\">\n",
       "  <thead>\n",
       "    <tr style=\"text-align: right;\">\n",
       "      <th></th>\n",
       "      <th>1</th>\n",
       "    </tr>\n",
       "    <tr>\n",
       "      <th>0</th>\n",
       "      <th></th>\n",
       "    </tr>\n",
       "  </thead>\n",
       "  <tbody>\n",
       "    <tr>\n",
       "      <th>0610007C21Rik</th>\n",
       "      <td>94.571429</td>\n",
       "    </tr>\n",
       "    <tr>\n",
       "      <th>0610007L01Rik</th>\n",
       "      <td>156.000000</td>\n",
       "    </tr>\n",
       "    <tr>\n",
       "      <th>0610007P08Rik</th>\n",
       "      <td>202.272727</td>\n",
       "    </tr>\n",
       "    <tr>\n",
       "      <th>0610007P14Rik</th>\n",
       "      <td>104.000000</td>\n",
       "    </tr>\n",
       "    <tr>\n",
       "      <th>0610007P22Rik</th>\n",
       "      <td>158.750000</td>\n",
       "    </tr>\n",
       "  </tbody>\n",
       "</table>\n",
       "</div>"
      ],
      "text/plain": [
       "                        1\n",
       "0                        \n",
       "0610007C21Rik   94.571429\n",
       "0610007L01Rik  156.000000\n",
       "0610007P08Rik  202.272727\n",
       "0610007P14Rik  104.000000\n",
       "0610007P22Rik  158.750000"
      ]
     },
     "execution_count": 5,
     "metadata": {},
     "output_type": "execute_result"
    }
   ],
   "source": [
    "gene_len = pd.read_csv(\n",
    "    \"https://raw.githubusercontent.com/chenlingantelope/HarmonizationSCANVI/master/data/gene_len.txt\",\n",
    "    delimiter=\" \",\n",
    "    header=None,\n",
    "    index_col=0,\n",
    ")\n",
    "gene_len.head()"
   ]
  },
  {
   "cell_type": "code",
   "execution_count": 6,
   "metadata": {},
   "outputs": [],
   "source": [
    "import numpy as np\n",
    "from scipy import sparse\n",
    "\n",
    "gene_len = gene_len.reindex(tm_facs_data.var.index).dropna()\n",
    "\n",
    "tm_facs_data = tm_facs_data[:, gene_len.index].copy() # break the view\n",
    "\n",
    "gene_len_vec = gene_len[1].values.astype(np.float32)\n",
    "median_len = np.median(gene_len_vec)\n",
    "\n",
    "# column‑wise scaling in CSC format\n",
    "X = tm_facs_data.X.tocsc(copy=True) # -> (n_cells × n_genes)\n",
    "X = X.multiply(1.0 / gene_len_vec) # divide each column by its length\n",
    "X = X.multiply(median_len) # multiply by the median length\n",
    "X.data = np.rint(X.data) # round only the non‑zero entries\n",
    "\n",
    "tm_facs_data.X = X.tocsr() # store back as CSR (Scanpy’s default)"
   ]
  },
  {
   "cell_type": "code",
   "execution_count": 7,
   "id": "91d5e08e",
   "metadata": {},
   "outputs": [
    {
     "name": "stderr",
     "output_type": "stream",
     "text": [
      "/tmp/ipykernel_3993561/494943004.py:4: FutureWarning: Use anndata.concat instead of AnnData.concatenate, AnnData.concatenate is deprecated and will be removed in the future. See the tutorial for concat at: https://anndata.readthedocs.io/en/latest/concatenation.html\n",
      "  tm_adata = tm_droplet_data.concatenate(tm_facs_data)\n"
     ]
    }
   ],
   "source": [
    "import scanpy as sc\n",
    "import pandas as pd\n",
    "\n",
    "tm_adata = tm_droplet_data.concatenate(tm_facs_data)\n",
    "tm_adata.layers[\"counts\"] = tm_adata.X.copy()\n",
    "sc.pp.normalize_total(tm_adata, target_sum=1e4)\n",
    "sc.pp.log1p(tm_adata)\n",
    "tm_adata.raw = tm_adata  # keep full dimension safe\n",
    "sc.pp.highly_variable_genes(\n",
    "    tm_adata,\n",
    "    flavor=\"seurat_v3\",\n",
    "    n_top_genes=2000,\n",
    "    layer=\"counts\",\n",
    "    batch_key=\"tech\",\n",
    "    subset=True,\n",
    ")"
   ]
  },
  {
   "cell_type": "code",
   "execution_count": 8,
   "metadata": {},
   "outputs": [
    {
     "data": {
      "text/plain": [
       "AnnData object with n_obs × n_vars = 356213 × 2000\n",
       "    obs: 'age', 'cell', 'cell_ontology_class', 'cell_ontology_id', 'free_annotation', 'method', 'mouse.id', 'n_genes', 'sex', 'subtissue', 'tissue', 'tissue_free_annotation', 'tech', 'FACS.selection', 'n_counts', 'batch'\n",
       "    var: 'n_cells-0', 'n_cells-1', 'highly_variable', 'highly_variable_rank', 'means', 'variances', 'variances_norm', 'highly_variable_nbatches'\n",
       "    uns: 'log1p', 'hvg'\n",
       "    layers: 'counts'"
      ]
     },
     "execution_count": 8,
     "metadata": {},
     "output_type": "execute_result"
    }
   ],
   "source": [
    "tm_adata"
   ]
  },
  {
   "cell_type": "code",
   "execution_count": 9,
   "id": "91fedb22",
   "metadata": {},
   "outputs": [
    {
     "name": "stderr",
     "output_type": "stream",
     "text": [
      "/tmp/ipykernel_3993561/216714466.py:1: FutureWarning: The default of observed=False is deprecated and will be changed to True in a future version of pandas. Pass observed=False to retain current behavior or observed=True to adopt the future default and silence this warning.\n",
      "  celltype_techs = tm_adata.obs.groupby(\"cell_ontology_class\")[\"tech\"].unique()\n"
     ]
    }
   ],
   "source": [
    "celltype_techs = tm_adata.obs.groupby(\"cell_ontology_class\")[\"tech\"].unique()\n",
    "celltype_status = {}\n",
    "for celltype, tech_list in celltype_techs.items():\n",
    "    tech_set = set(tech_list)\n",
    "    if len(tech_set) == 1:\n",
    "        if \"10x\" in tech_set:\n",
    "            celltype_status[celltype] = \"only_10x\"\n",
    "        else:\n",
    "            celltype_status[celltype] = \"only_SS2\"\n",
    "    else:\n",
    "        celltype_status[celltype] = \"both\"\n",
    "\n",
    "# 3) Create a new column in .obs indicating whether a cell's type is only_10x, only_SS2, or both\n",
    "tm_adata.obs[\"celltype_tech_availability\"] = (\n",
    "    tm_adata.obs[\"cell_ontology_class\"].map(celltype_status)\n",
    ")"
   ]
  },
  {
   "cell_type": "code",
   "execution_count": 11,
   "id": "572753fc",
   "metadata": {},
   "outputs": [
    {
     "name": "stderr",
     "output_type": "stream",
     "text": [
      "/tmp/ipykernel_3993561/1686945273.py:1: FutureWarning: A value is trying to be set on a copy of a DataFrame or Series through chained assignment using an inplace method.\n",
      "The behavior will change in pandas 3.0. This inplace method will never work because the intermediate object on which we are setting values always behaves as a copy.\n",
      "\n",
      "For example, when doing 'df[col].method(value, inplace=True)', try using 'df.method({col: value}, inplace=True)' or df[col] = df[col].method(value) instead, to perform the operation inplace on the original object.\n",
      "\n",
      "\n",
      "  tm_adata.obs['cell_ontology_class'].replace(\n",
      "/tmp/ipykernel_3993561/1686945273.py:1: FutureWarning: The behavior of Series.replace (and DataFrame.replace) with CategoricalDtype is deprecated. In a future version, replace will only be used for cases that preserve the categories. To change the categories, use ser.cat.rename_categories instead.\n",
      "  tm_adata.obs['cell_ontology_class'].replace(\n"
     ]
    }
   ],
   "source": [
    "tm_adata.obs['cell_ontology_class'].replace(\n",
    "    to_replace='pancreatic ductal cel',\n",
    "    value='pancreatic ductal cell',\n",
    "    inplace=True\n",
    ")"
   ]
  },
  {
   "cell_type": "code",
   "execution_count": 12,
   "id": "c49937ac",
   "metadata": {},
   "outputs": [
    {
     "name": "stdout",
     "output_type": "stream",
     "text": [
      "tm_droplet_data_tissues={'Mammary_Gland', 'Thymus', 'Tongue', 'Skin', 'Fat', 'Trachea', 'Pancreas', 'Marrow', 'Lung', 'Limb_Muscle', 'Large_Intestine', 'Bladder', 'Liver', 'Heart_and_Aorta', 'Kidney', 'Spleen'}\n",
      "len(tm_droplet_data_tissues)=16\n",
      "tm_facs_data_tissues={'GAT', 'Skin', 'Kidney', 'Mammary_Gland', 'Marrow', 'Thymus', 'Diaphragm', 'Tongue', 'Trachea', 'Brain_Myeloid', 'BAT', 'Lung', 'MAT', 'Large_Intestine', 'Bladder', 'Aorta', 'SCAT', 'Brain_Non-Myeloid', 'Pancreas', 'Limb_Muscle', 'Heart', 'Liver', 'Spleen'}\n",
      "len(tm_facs_data_tissues)=23\n",
      "len(tm_all_tissues)=25\n"
     ]
    }
   ],
   "source": [
    "tm_droplet_data_tissues = tm_droplet_data.obs.tissue.tolist()\n",
    "tm_droplet_data_tissues = {t for t in tm_droplet_data_tissues}\n",
    "tm_droplet_data_tissues\n",
    "print(f'{tm_droplet_data_tissues=}')\n",
    "print(f'{len(tm_droplet_data_tissues)=}')\n",
    "\n",
    "tm_facs_data_tissues = tm_facs_data.obs.tissue.tolist()\n",
    "tm_facs_data_tissues = {t for t in tm_facs_data_tissues}\n",
    "tm_facs_data_tissues\n",
    "print(f'{tm_facs_data_tissues=}')\n",
    "print(f'{len(tm_facs_data_tissues)=}')\n",
    "\n",
    "tm_all_tissues = tm_droplet_data_tissues.union(tm_facs_data_tissues)\n",
    "# tm_all_tissues\n",
    "print(f'{len(tm_all_tissues)=}')\n",
    "\n",
    "# train_tissues = tm_shared_tissues[:-4]\n",
    "# test_tissues = tm_shared_tissues[-4:]\n",
    "\n",
    "# print(f'{train_tissues=}')\n",
    "# print(f'{test_tissues=}')\n",
    "\n",
    "# train_tissues=['Large_Intestine', 'Spleen', 'Mammary_Gland', 'Lung', 'Kidney', 'Thymus', 'Bladder', 'Tongue', 'Marrow', 'Trachea']\n",
    "test_tissues={'Skin', 'Liver', 'Limb_Muscle', 'Pancreas'}\n",
    "train_tissues = tm_all_tissues.difference(test_tissues) # v3,5_gpu"
   ]
  },
  {
   "cell_type": "code",
   "execution_count": 13,
   "id": "857744c9",
   "metadata": {},
   "outputs": [],
   "source": [
    "tm_adata_train = tm_adata[\n",
    "    tm_adata.obs['tissue'].isin(train_tissues)\n",
    "]\n",
    "tm_adata_test = tm_adata[\n",
    "    tm_adata.obs['tissue'].isin(test_tissues)\n",
    "]"
   ]
  },
  {
   "cell_type": "code",
   "execution_count": null,
   "id": "33347c85",
   "metadata": {},
   "outputs": [],
   "source": [
    "import pickle\n",
    "# Create the directory if it doesn't exist\n",
    "import os\n",
    "os.makedirs(r'./src/data/tabula_muris/preprocessed', exist_ok=True)\n",
    "\n",
    "with open(r'./src/data/tabula_muris/preprocessed/tm_adata_train.pkl', 'wb') as f: # NOTE: be careful of where this actually is LOL\n",
    "    pickle.dump(tm_adata_train, f)\n",
    "\n",
    "with open(r'./src/data/tabula_muris/preprocessed/tm_adata_test.pkl', 'wb') as f:\n",
    "    pickle.dump(tm_adata_test, f)"
   ]
  },
  {
   "cell_type": "code",
   "execution_count": 15,
   "metadata": {},
   "outputs": [
    {
     "data": {
      "text/plain": [
       "\"import pickle\\n# Create the directory if it doesn't exist\\nimport os\\nos.makedirs(r'./src/data/tabula_muris/preprocessed', exist_ok=True)\\n\\nwith open(r'./src/data/tabula_muris/preprocessed/tm_adata_all.pkl', 'wb') as f:\\n    pickle.dump(tm_adata, f)\\n    \""
      ]
     },
     "execution_count": 15,
     "metadata": {},
     "output_type": "execute_result"
    }
   ],
   "source": [
    "'''import pickle\n",
    "# Create the directory if it doesn't exist\n",
    "import os\n",
    "os.makedirs(r'./src/data/tabula_muris/preprocessed', exist_ok=True)\n",
    "\n",
    "with open(r'./src/data/tabula_muris/preprocessed/tm_adata_all.pkl', 'wb') as f:\n",
    "    pickle.dump(tm_adata, f)\n",
    "    '''"
   ]
  }
 ],
 "metadata": {
  "kernelspec": {
   "display_name": "pytorch.venv",
   "language": "python",
   "name": "pytorch.venv"
  },
  "language_info": {
   "codemirror_mode": {
    "name": "ipython",
    "version": 3
   },
   "file_extension": ".py",
   "mimetype": "text/x-python",
   "name": "python",
   "nbconvert_exporter": "python",
   "pygments_lexer": "ipython3",
   "version": "3.9.16"
  }
 },
 "nbformat": 4,
 "nbformat_minor": 5
}
