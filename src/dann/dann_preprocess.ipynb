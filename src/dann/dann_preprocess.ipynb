{
 "cells": [
  {
   "cell_type": "code",
   "execution_count": 4,
   "metadata": {},
   "outputs": [],
   "source": [
    "import scanpy as sc\n",
    "import pandas as pd\n",
    "\n",
    "tm_droplet_data = sc.read(\n",
    "    r'../data/TM_droplet.h5ad',\n",
    ")\n",
    "tm_facs_data = sc.read(\n",
    "    r'../data/TM_facs.h5ad',\n",
    ")"
   ]
  },
  {
   "cell_type": "code",
   "execution_count": 5,
   "metadata": {},
   "outputs": [
    {
     "data": {
      "text/plain": [
       "AnnData object with n_obs × n_vars = 245389 × 20138\n",
       "    obs: 'age', 'cell', 'cell_ontology_class', 'cell_ontology_id', 'free_annotation', 'method', 'mouse.id', 'n_genes', 'sex', 'subtissue', 'tissue', 'tissue_free_annotation'\n",
       "    var: 'n_cells'"
      ]
     },
     "execution_count": 5,
     "metadata": {},
     "output_type": "execute_result"
    }
   ],
   "source": [
    "tm_droplet_data"
   ]
  },
  {
   "cell_type": "code",
   "execution_count": 6,
   "id": "8a66933e",
   "metadata": {},
   "outputs": [
    {
     "data": {
      "text/plain": [
       "['keratinocyte', 'basal cell of epidermis', 'Langerhans cell', 'fibroblast of cardiac tissue', 'leukocyte', ..., 'basal epithelial cell of tracheobronchial tree', 'chondrocyte', 'neuroendocrine cell', 'blood cell', 'smooth muscle cell of trachea']\n",
       "Length: 123\n",
       "Categories (123, object): ['B cell', 'CD4-positive, alpha-beta T cell', 'CD8-positive, alpha-beta T cell', 'DN3 thymocyte', ..., 'stromal cell', 'thymocyte', 'type II pneumocyte', 'vein endothelial cell']"
      ]
     },
     "execution_count": 6,
     "metadata": {},
     "output_type": "execute_result"
    }
   ],
   "source": [
    "# List all tissue types in tm_droplet_data\n",
    "tm_droplet_data.obs[\"tissue\"].unique()\n",
    "# List all tissue types in tm_facs_data\n",
    "tm_facs_data.obs[\"tissue\"].unique()\n",
    "# List all cell types in tm_droplet_data\n",
    "tm_droplet_data.obs[\"cell_ontology_class\"].unique()\n"
   ]
  },
  {
   "cell_type": "code",
   "execution_count": 7,
   "metadata": {},
   "outputs": [],
   "source": [
    "# Filter only for cells with valid cell ontology class\n",
    "tm_droplet_data = tm_droplet_data[\n",
    "    (~tm_droplet_data.obs.cell_ontology_class.isna())\n",
    "].copy()\n",
    "tm_facs_data = tm_facs_data[\n",
    "    (~tm_facs_data.obs.cell_ontology_class.isna())\n",
    "].copy()\n",
    "\n",
    "# Add technology labels\n",
    "tm_droplet_data.obs[\"tech\"] = \"10x\"\n",
    "tm_facs_data.obs[\"tech\"] = \"SS2\""
   ]
  },
  {
   "cell_type": "code",
   "execution_count": 8,
   "metadata": {},
   "outputs": [
    {
     "data": {
      "text/html": [
       "<div>\n",
       "<style scoped>\n",
       "    .dataframe tbody tr th:only-of-type {\n",
       "        vertical-align: middle;\n",
       "    }\n",
       "\n",
       "    .dataframe tbody tr th {\n",
       "        vertical-align: top;\n",
       "    }\n",
       "\n",
       "    .dataframe thead th {\n",
       "        text-align: right;\n",
       "    }\n",
       "</style>\n",
       "<table border=\"1\" class=\"dataframe\">\n",
       "  <thead>\n",
       "    <tr style=\"text-align: right;\">\n",
       "      <th></th>\n",
       "      <th>1</th>\n",
       "    </tr>\n",
       "    <tr>\n",
       "      <th>0</th>\n",
       "      <th></th>\n",
       "    </tr>\n",
       "  </thead>\n",
       "  <tbody>\n",
       "    <tr>\n",
       "      <th>0610007C21Rik</th>\n",
       "      <td>94.571429</td>\n",
       "    </tr>\n",
       "    <tr>\n",
       "      <th>0610007L01Rik</th>\n",
       "      <td>156.000000</td>\n",
       "    </tr>\n",
       "    <tr>\n",
       "      <th>0610007P08Rik</th>\n",
       "      <td>202.272727</td>\n",
       "    </tr>\n",
       "    <tr>\n",
       "      <th>0610007P14Rik</th>\n",
       "      <td>104.000000</td>\n",
       "    </tr>\n",
       "    <tr>\n",
       "      <th>0610007P22Rik</th>\n",
       "      <td>158.750000</td>\n",
       "    </tr>\n",
       "  </tbody>\n",
       "</table>\n",
       "</div>"
      ],
      "text/plain": [
       "                        1\n",
       "0                        \n",
       "0610007C21Rik   94.571429\n",
       "0610007L01Rik  156.000000\n",
       "0610007P08Rik  202.272727\n",
       "0610007P14Rik  104.000000\n",
       "0610007P22Rik  158.750000"
      ]
     },
     "execution_count": 8,
     "metadata": {},
     "output_type": "execute_result"
    }
   ],
   "source": [
    "gene_len = pd.read_csv(\n",
    "    \"https://raw.githubusercontent.com/chenlingantelope/HarmonizationSCANVI/master/data/gene_len.txt\",\n",
    "    delimiter=\" \",\n",
    "    header=None,\n",
    "    index_col=0,\n",
    ")\n",
    "gene_len.head()"
   ]
  },
  {
   "cell_type": "code",
   "execution_count": 9,
   "metadata": {},
   "outputs": [],
   "source": [
    "import numpy as np\n",
    "from scipy import sparse\n",
    "\n",
    "gene_len = gene_len.reindex(tm_facs_data.var.index).dropna()\n",
    "\n",
    "tm_facs_data = tm_facs_data[:, gene_len.index].copy() # break the view\n",
    "\n",
    "gene_len_vec = gene_len[1].values.astype(np.float32)\n",
    "median_len = np.median(gene_len_vec)\n",
    "\n",
    "# column‑wise scaling in CSC format\n",
    "X = tm_facs_data.X.tocsc(copy=True) # -> (n_cells × n_genes)\n",
    "X = X.multiply(1.0 / gene_len_vec) # divide each column by its length\n",
    "X = X.multiply(median_len) # multiply by the median length\n",
    "X.data = np.rint(X.data) # round only the non‑zero entries\n",
    "\n",
    "tm_facs_data.X = X.tocsr() # store back as CSR (Scanpy’s default)"
   ]
  },
  {
   "cell_type": "code",
   "execution_count": 10,
   "id": "91d5e08e",
   "metadata": {},
   "outputs": [
    {
     "name": "stderr",
     "output_type": "stream",
     "text": [
      "/var/folders/nq/rdr_1stx20q53tj528ms_llr0000gn/T/ipykernel_26146/494943004.py:4: FutureWarning: Use anndata.concat instead of AnnData.concatenate, AnnData.concatenate is deprecated and will be removed in the future. See the tutorial for concat at: https://anndata.readthedocs.io/en/latest/concatenation.html\n",
      "  tm_adata = tm_droplet_data.concatenate(tm_facs_data)\n"
     ]
    },
    {
     "ename": "ImportError",
     "evalue": "Please install skmisc package via `pip install --user scikit-misc",
     "output_type": "error",
     "traceback": [
      "\u001b[31m---------------------------------------------------------------------------\u001b[39m",
      "\u001b[31mModuleNotFoundError\u001b[39m                       Traceback (most recent call last)",
      "\u001b[36mFile \u001b[39m\u001b[32m~/Library/Caches/pypoetry/virtualenvs/universalgene-JN4ioplN-py3.12/lib/python3.12/site-packages/scanpy/preprocessing/_highly_variable_genes.py:65\u001b[39m, in \u001b[36m_highly_variable_genes_seurat_v3\u001b[39m\u001b[34m(adata, flavor, layer, n_top_genes, batch_key, check_values, span, subset, inplace)\u001b[39m\n\u001b[32m     64\u001b[39m \u001b[38;5;28;01mtry\u001b[39;00m:\n\u001b[32m---> \u001b[39m\u001b[32m65\u001b[39m     \u001b[38;5;28;01mfrom\u001b[39;00m\u001b[38;5;250m \u001b[39m\u001b[34;01mskmisc\u001b[39;00m\u001b[34;01m.\u001b[39;00m\u001b[34;01mloess\u001b[39;00m\u001b[38;5;250m \u001b[39m\u001b[38;5;28;01mimport\u001b[39;00m loess\n\u001b[32m     66\u001b[39m \u001b[38;5;28;01mexcept\u001b[39;00m \u001b[38;5;167;01mImportError\u001b[39;00m:\n",
      "\u001b[31mModuleNotFoundError\u001b[39m: No module named 'skmisc'",
      "\nDuring handling of the above exception, another exception occurred:\n",
      "\u001b[31mImportError\u001b[39m                               Traceback (most recent call last)",
      "\u001b[36mCell\u001b[39m\u001b[36m \u001b[39m\u001b[32mIn[10]\u001b[39m\u001b[32m, line 9\u001b[39m\n\u001b[32m      7\u001b[39m sc.pp.log1p(tm_adata)\n\u001b[32m      8\u001b[39m tm_adata.raw = tm_adata  \u001b[38;5;66;03m# keep full dimension safe\u001b[39;00m\n\u001b[32m----> \u001b[39m\u001b[32m9\u001b[39m \u001b[43msc\u001b[49m\u001b[43m.\u001b[49m\u001b[43mpp\u001b[49m\u001b[43m.\u001b[49m\u001b[43mhighly_variable_genes\u001b[49m\u001b[43m(\u001b[49m\n\u001b[32m     10\u001b[39m \u001b[43m    \u001b[49m\u001b[43mtm_adata\u001b[49m\u001b[43m,\u001b[49m\n\u001b[32m     11\u001b[39m \u001b[43m    \u001b[49m\u001b[43mflavor\u001b[49m\u001b[43m=\u001b[49m\u001b[33;43m\"\u001b[39;49m\u001b[33;43mseurat_v3\u001b[39;49m\u001b[33;43m\"\u001b[39;49m\u001b[43m,\u001b[49m\n\u001b[32m     12\u001b[39m \u001b[43m    \u001b[49m\u001b[43mn_top_genes\u001b[49m\u001b[43m=\u001b[49m\u001b[32;43m2000\u001b[39;49m\u001b[43m,\u001b[49m\n\u001b[32m     13\u001b[39m \u001b[43m    \u001b[49m\u001b[43mlayer\u001b[49m\u001b[43m=\u001b[49m\u001b[33;43m\"\u001b[39;49m\u001b[33;43mcounts\u001b[39;49m\u001b[33;43m\"\u001b[39;49m\u001b[43m,\u001b[49m\n\u001b[32m     14\u001b[39m \u001b[43m    \u001b[49m\u001b[43mbatch_key\u001b[49m\u001b[43m=\u001b[49m\u001b[33;43m\"\u001b[39;49m\u001b[33;43mtech\u001b[39;49m\u001b[33;43m\"\u001b[39;49m\u001b[43m,\u001b[49m\n\u001b[32m     15\u001b[39m \u001b[43m    \u001b[49m\u001b[43msubset\u001b[49m\u001b[43m=\u001b[49m\u001b[38;5;28;43;01mTrue\u001b[39;49;00m\u001b[43m,\u001b[49m\n\u001b[32m     16\u001b[39m \u001b[43m)\u001b[49m\n",
      "\u001b[36mFile \u001b[39m\u001b[32m~/Library/Caches/pypoetry/virtualenvs/universalgene-JN4ioplN-py3.12/lib/python3.12/site-packages/legacy_api_wrap/__init__.py:82\u001b[39m, in \u001b[36mlegacy_api.<locals>.wrapper.<locals>.fn_compatible\u001b[39m\u001b[34m(*args_all, **kw)\u001b[39m\n\u001b[32m     79\u001b[39m \u001b[38;5;129m@wraps\u001b[39m(fn)\n\u001b[32m     80\u001b[39m \u001b[38;5;28;01mdef\u001b[39;00m\u001b[38;5;250m \u001b[39m\u001b[34mfn_compatible\u001b[39m(*args_all: P.args, **kw: P.kwargs) -> R:\n\u001b[32m     81\u001b[39m     \u001b[38;5;28;01mif\u001b[39;00m \u001b[38;5;28mlen\u001b[39m(args_all) <= n_positional:\n\u001b[32m---> \u001b[39m\u001b[32m82\u001b[39m         \u001b[38;5;28;01mreturn\u001b[39;00m \u001b[43mfn\u001b[49m\u001b[43m(\u001b[49m\u001b[43m*\u001b[49m\u001b[43margs_all\u001b[49m\u001b[43m,\u001b[49m\u001b[43m \u001b[49m\u001b[43m*\u001b[49m\u001b[43m*\u001b[49m\u001b[43mkw\u001b[49m\u001b[43m)\u001b[49m\n\u001b[32m     84\u001b[39m     args_pos: P.args\n\u001b[32m     85\u001b[39m     args_pos, args_rest = args_all[:n_positional], args_all[n_positional:]\n",
      "\u001b[36mFile \u001b[39m\u001b[32m~/Library/Caches/pypoetry/virtualenvs/universalgene-JN4ioplN-py3.12/lib/python3.12/site-packages/scanpy/preprocessing/_highly_variable_genes.py:660\u001b[39m, in \u001b[36mhighly_variable_genes\u001b[39m\u001b[34m(adata, layer, n_top_genes, min_disp, max_disp, min_mean, max_mean, span, n_bins, flavor, subset, inplace, batch_key, check_values)\u001b[39m\n\u001b[32m    658\u001b[39m         sig = signature(_highly_variable_genes_seurat_v3)\n\u001b[32m    659\u001b[39m         n_top_genes = cast(\u001b[33m\"\u001b[39m\u001b[33mint\u001b[39m\u001b[33m\"\u001b[39m, sig.parameters[\u001b[33m\"\u001b[39m\u001b[33mn_top_genes\u001b[39m\u001b[33m\"\u001b[39m].default)\n\u001b[32m--> \u001b[39m\u001b[32m660\u001b[39m     \u001b[38;5;28;01mreturn\u001b[39;00m \u001b[43m_highly_variable_genes_seurat_v3\u001b[49m\u001b[43m(\u001b[49m\n\u001b[32m    661\u001b[39m \u001b[43m        \u001b[49m\u001b[43madata\u001b[49m\u001b[43m,\u001b[49m\n\u001b[32m    662\u001b[39m \u001b[43m        \u001b[49m\u001b[43mflavor\u001b[49m\u001b[43m=\u001b[49m\u001b[43mflavor\u001b[49m\u001b[43m,\u001b[49m\n\u001b[32m    663\u001b[39m \u001b[43m        \u001b[49m\u001b[43mlayer\u001b[49m\u001b[43m=\u001b[49m\u001b[43mlayer\u001b[49m\u001b[43m,\u001b[49m\n\u001b[32m    664\u001b[39m \u001b[43m        \u001b[49m\u001b[43mn_top_genes\u001b[49m\u001b[43m=\u001b[49m\u001b[43mn_top_genes\u001b[49m\u001b[43m,\u001b[49m\n\u001b[32m    665\u001b[39m \u001b[43m        \u001b[49m\u001b[43mbatch_key\u001b[49m\u001b[43m=\u001b[49m\u001b[43mbatch_key\u001b[49m\u001b[43m,\u001b[49m\n\u001b[32m    666\u001b[39m \u001b[43m        \u001b[49m\u001b[43mcheck_values\u001b[49m\u001b[43m=\u001b[49m\u001b[43mcheck_values\u001b[49m\u001b[43m,\u001b[49m\n\u001b[32m    667\u001b[39m \u001b[43m        \u001b[49m\u001b[43mspan\u001b[49m\u001b[43m=\u001b[49m\u001b[43mspan\u001b[49m\u001b[43m,\u001b[49m\n\u001b[32m    668\u001b[39m \u001b[43m        \u001b[49m\u001b[43msubset\u001b[49m\u001b[43m=\u001b[49m\u001b[43msubset\u001b[49m\u001b[43m,\u001b[49m\n\u001b[32m    669\u001b[39m \u001b[43m        \u001b[49m\u001b[43minplace\u001b[49m\u001b[43m=\u001b[49m\u001b[43minplace\u001b[49m\u001b[43m,\u001b[49m\n\u001b[32m    670\u001b[39m \u001b[43m    \u001b[49m\u001b[43m)\u001b[49m\n\u001b[32m    672\u001b[39m cutoff = _Cutoffs.validate(\n\u001b[32m    673\u001b[39m     n_top_genes=n_top_genes,\n\u001b[32m    674\u001b[39m     min_disp=min_disp,\n\u001b[32m   (...)\u001b[39m\u001b[32m    677\u001b[39m     max_mean=max_mean,\n\u001b[32m    678\u001b[39m )\n\u001b[32m    679\u001b[39m \u001b[38;5;28;01mdel\u001b[39;00m min_disp, max_disp, min_mean, max_mean, n_top_genes\n",
      "\u001b[36mFile \u001b[39m\u001b[32m~/Library/Caches/pypoetry/virtualenvs/universalgene-JN4ioplN-py3.12/lib/python3.12/site-packages/scanpy/preprocessing/_highly_variable_genes.py:68\u001b[39m, in \u001b[36m_highly_variable_genes_seurat_v3\u001b[39m\u001b[34m(adata, flavor, layer, n_top_genes, batch_key, check_values, span, subset, inplace)\u001b[39m\n\u001b[32m     66\u001b[39m \u001b[38;5;28;01mexcept\u001b[39;00m \u001b[38;5;167;01mImportError\u001b[39;00m:\n\u001b[32m     67\u001b[39m     msg = \u001b[33m\"\u001b[39m\u001b[33mPlease install skmisc package via `pip install --user scikit-misc\u001b[39m\u001b[33m\"\u001b[39m\n\u001b[32m---> \u001b[39m\u001b[32m68\u001b[39m     \u001b[38;5;28;01mraise\u001b[39;00m \u001b[38;5;167;01mImportError\u001b[39;00m(msg)\n\u001b[32m     69\u001b[39m df = pd.DataFrame(index=adata.var_names)\n\u001b[32m     70\u001b[39m data = _get_obs_rep(adata, layer=layer)\n",
      "\u001b[31mImportError\u001b[39m: Please install skmisc package via `pip install --user scikit-misc"
     ]
    }
   ],
   "source": [
    "import scanpy as sc\n",
    "import pandas as pd\n",
    "\n",
    "tm_adata = tm_droplet_data.concatenate(tm_facs_data)\n",
    "tm_adata.layers[\"counts\"] = tm_adata.X.copy()\n",
    "sc.pp.normalize_total(tm_adata, target_sum=1e4)\n",
    "sc.pp.log1p(tm_adata)\n",
    "tm_adata.raw = tm_adata  # keep full dimension safe\n",
    "sc.pp.highly_variable_genes(\n",
    "    tm_adata,\n",
    "    flavor=\"seurat_v3\",\n",
    "    n_top_genes=2000,\n",
    "    layer=\"counts\",\n",
    "    batch_key=\"tech\",\n",
    "    subset=True,\n",
    ")"
   ]
  },
  {
   "cell_type": "code",
   "execution_count": 8,
   "metadata": {},
   "outputs": [
    {
     "data": {
      "text/plain": [
       "AnnData object with n_obs × n_vars = 356213 × 2000\n",
       "    obs: 'age', 'cell', 'cell_ontology_class', 'cell_ontology_id', 'free_annotation', 'method', 'mouse.id', 'n_genes', 'sex', 'subtissue', 'tissue', 'tissue_free_annotation', 'tech', 'FACS.selection', 'n_counts', 'batch'\n",
       "    var: 'n_cells-0', 'n_cells-1', 'highly_variable', 'highly_variable_rank', 'means', 'variances', 'variances_norm', 'highly_variable_nbatches'\n",
       "    uns: 'log1p', 'hvg'\n",
       "    layers: 'counts'"
      ]
     },
     "execution_count": 8,
     "metadata": {},
     "output_type": "execute_result"
    }
   ],
   "source": [
    "tm_adata"
   ]
  },
  {
   "cell_type": "code",
   "execution_count": 9,
   "metadata": {},
   "outputs": [],
   "source": [
    "import pickle\n",
    "# Create the directory if it doesn't exist\n",
    "import os\n",
    "os.makedirs(r'../data/tabula_muris/preprocessed', exist_ok=True)\n",
    "\n",
    "with open(r'../data/tabula_muris/preprocessed/tm_adata_all.pkl', 'wb') as f:\n",
    "    pickle.dump(tm_adata, f)"
   ]
  }
 ],
 "metadata": {
  "kernelspec": {
   "display_name": "universalgene-JN4ioplN-py3.12",
   "language": "python",
   "name": "python3"
  },
  "language_info": {
   "codemirror_mode": {
    "name": "ipython",
    "version": 3
   },
   "file_extension": ".py",
   "mimetype": "text/x-python",
   "name": "python",
   "nbconvert_exporter": "python",
   "pygments_lexer": "ipython3",
   "version": "3.12.9"
  }
 },
 "nbformat": 4,
 "nbformat_minor": 5
}
