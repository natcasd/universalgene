{
 "cells": [
  {
   "cell_type": "code",
   "execution_count": null,
   "metadata": {},
   "outputs": [],
   "source": [
    "import scanpy as sc\n",
    "import pandas as pd\n",
    "\n",
    "tm_droplet_data = sc.read(\n",
    "    r'./data/tabula_muris/TM_droplet.h5ad',\n",
    ")\n",
    "tm_facs_data = sc.read(\n",
    "    r'./data/tabula_muris/TM_facs.h5ad',\n",
    ")"
   ]
  },
  {
   "cell_type": "code",
   "execution_count": null,
   "metadata": {},
   "outputs": [
    {
     "data": {
      "text/plain": [
       "AnnData object with n_obs × n_vars = 245389 × 20138\n",
       "    obs: 'age', 'cell', 'cell_ontology_class', 'cell_ontology_id', 'free_annotation', 'method', 'mouse.id', 'n_genes', 'sex', 'subtissue', 'tissue', 'tissue_free_annotation'\n",
       "    var: 'n_cells'"
      ]
     },
     "execution_count": 2,
     "metadata": {},
     "output_type": "execute_result"
    }
   ],
   "source": [
    "tm_droplet_data"
   ]
  },
  {
   "cell_type": "code",
   "execution_count": null,
   "id": "8a66933e",
   "metadata": {},
   "outputs": [],
   "source": [
    "# List all tissue types in tm_droplet_data\n",
    "tm_droplet_data.obs[\"tissue\"].unique()\n",
    "# List all tissue types in tm_facs_data\n",
    "tm_facs_data.obs[\"tissue\"].unique()\n",
    "# List all cell types in tm_droplet_data\n",
    "tm_droplet_data.obs[\"cell_ontology_class\"].unique()\n"
   ]
  },
  {
   "cell_type": "code",
   "execution_count": 3,
   "metadata": {},
   "outputs": [],
   "source": [
    "tm_droplet_data = tm_droplet_data[\n",
    "    (tm_droplet_data.obs.tissue == \"Marrow\")\n",
    "    & (~tm_droplet_data.obs.cell_ontology_class.isna())\n",
    "    & (tm_droplet_data.obs.sex == \"female\")\n",
    "].copy()\n",
    "tm_facs_data = tm_facs_data[\n",
    "    (tm_facs_data.obs.tissue == \"Marrow\")\n",
    "    & (~tm_facs_data.obs.cell_ontology_class.isna())\n",
    "    & (tm_facs_data.obs.sex == \"female\")\n",
    "].copy()\n",
    "\n",
    "tm_droplet_data.obs[\"tech\"] = \"10x\"\n",
    "tm_facs_data.obs[\"tech\"] = \"SS2\""
   ]
  },
  {
   "cell_type": "code",
   "execution_count": 4,
   "metadata": {},
   "outputs": [
    {
     "data": {
      "application/vnd.microsoft.datawrangler.viewer.v0+json": {
       "columns": [
        {
         "name": "index",
         "rawType": "object",
         "type": "string"
        },
        {
         "name": "1",
         "rawType": "float64",
         "type": "float"
        }
       ],
       "conversionMethod": "pd.DataFrame",
       "ref": "f95f23db-9a2a-40f6-a49d-0084c4a4c4aa",
       "rows": [
        [
         "0610007C21Rik",
         "94.5714285714286"
        ],
        [
         "0610007L01Rik",
         "156.0"
        ],
        [
         "0610007P08Rik",
         "202.272727272727"
        ],
        [
         "0610007P14Rik",
         "104.0"
        ],
        [
         "0610007P22Rik",
         "158.75"
        ]
       ],
       "shape": {
        "columns": 1,
        "rows": 5
       }
      },
      "text/html": [
       "<div>\n",
       "<style scoped>\n",
       "    .dataframe tbody tr th:only-of-type {\n",
       "        vertical-align: middle;\n",
       "    }\n",
       "\n",
       "    .dataframe tbody tr th {\n",
       "        vertical-align: top;\n",
       "    }\n",
       "\n",
       "    .dataframe thead th {\n",
       "        text-align: right;\n",
       "    }\n",
       "</style>\n",
       "<table border=\"1\" class=\"dataframe\">\n",
       "  <thead>\n",
       "    <tr style=\"text-align: right;\">\n",
       "      <th></th>\n",
       "      <th>1</th>\n",
       "    </tr>\n",
       "    <tr>\n",
       "      <th>0</th>\n",
       "      <th></th>\n",
       "    </tr>\n",
       "  </thead>\n",
       "  <tbody>\n",
       "    <tr>\n",
       "      <th>0610007C21Rik</th>\n",
       "      <td>94.571429</td>\n",
       "    </tr>\n",
       "    <tr>\n",
       "      <th>0610007L01Rik</th>\n",
       "      <td>156.000000</td>\n",
       "    </tr>\n",
       "    <tr>\n",
       "      <th>0610007P08Rik</th>\n",
       "      <td>202.272727</td>\n",
       "    </tr>\n",
       "    <tr>\n",
       "      <th>0610007P14Rik</th>\n",
       "      <td>104.000000</td>\n",
       "    </tr>\n",
       "    <tr>\n",
       "      <th>0610007P22Rik</th>\n",
       "      <td>158.750000</td>\n",
       "    </tr>\n",
       "  </tbody>\n",
       "</table>\n",
       "</div>"
      ],
      "text/plain": [
       "                        1\n",
       "0                        \n",
       "0610007C21Rik   94.571429\n",
       "0610007L01Rik  156.000000\n",
       "0610007P08Rik  202.272727\n",
       "0610007P14Rik  104.000000\n",
       "0610007P22Rik  158.750000"
      ]
     },
     "execution_count": 4,
     "metadata": {},
     "output_type": "execute_result"
    }
   ],
   "source": [
    "gene_len = pd.read_csv(\n",
    "    \"https://raw.githubusercontent.com/chenlingantelope/HarmonizationSCANVI/master/data/gene_len.txt\",\n",
    "    delimiter=\" \",\n",
    "    header=None,\n",
    "    index_col=0,\n",
    ")\n",
    "gene_len.head()"
   ]
  },
  {
   "cell_type": "markdown",
   "id": "8b07f518",
   "metadata": {},
   "source": []
  },
  {
   "cell_type": "code",
   "execution_count": null,
   "metadata": {},
   "outputs": [],
   "source": [
    "import numpy as np\n",
    "\n",
    "gene_len = gene_len.reindex(tm_facs_data.var.index).dropna()\n",
    "tm_facs_data = tm_facs_data[:, gene_len.index]\n",
    "assert (tm_facs_data.var.index == gene_len.index).sum() == tm_facs_data.shape[1]\n",
    "tm_facs_data.X = tm_facs_data.X / gene_len[1].values * np.median(gene_len[1].values)\n",
    "# round to integer\n",
    "tm_facs_data.X = np.rint(tm_facs_data.X)"
   ]
  },
  {
   "cell_type": "code",
   "execution_count": 6,
   "metadata": {},
   "outputs": [
    {
     "name": "stderr",
     "output_type": "stream",
     "text": [
      "/tmp/ipykernel_2305364/494092425.py:1: FutureWarning: Use anndata.concat instead of AnnData.concatenate, AnnData.concatenate is deprecated and will be removed in the future. See the tutorial for concat at: https://anndata.readthedocs.io/en/latest/concatenation.html\n",
      "  tm_adata = tm_droplet_data.concatenate(tm_facs_data)\n"
     ]
    }
   ],
   "source": [
    "tm_adata = tm_droplet_data.concatenate(tm_facs_data)\n",
    "tm_adata.layers[\"counts\"] = tm_adata.X.copy()\n",
    "sc.pp.normalize_total(tm_adata, target_sum=1e4)\n",
    "sc.pp.log1p(tm_adata)\n",
    "tm_adata.raw = tm_adata  # keep full dimension safe\n",
    "sc.pp.highly_variable_genes(\n",
    "    tm_adata,\n",
    "    flavor=\"seurat_v3\",\n",
    "    n_top_genes=2000,\n",
    "    layer=\"counts\",\n",
    "    batch_key=\"tech\",\n",
    "    subset=True,\n",
    ")"
   ]
  },
  {
   "cell_type": "code",
   "execution_count": 7,
   "metadata": {},
   "outputs": [
    {
     "data": {
      "text/plain": [
       "AnnData object with n_obs × n_vars = 15907 × 2000\n",
       "    obs: 'age', 'cell', 'cell_ontology_class', 'cell_ontology_id', 'free_annotation', 'method', 'mouse.id', 'n_genes', 'sex', 'subtissue', 'tissue', 'tissue_free_annotation', 'tech', 'FACS.selection', 'n_counts', 'batch'\n",
       "    var: 'n_cells-0', 'n_cells-1', 'highly_variable', 'highly_variable_rank', 'means', 'variances', 'variances_norm', 'highly_variable_nbatches'\n",
       "    uns: 'log1p', 'hvg'\n",
       "    layers: 'counts'"
      ]
     },
     "execution_count": 7,
     "metadata": {},
     "output_type": "execute_result"
    }
   ],
   "source": [
    "tm_adata"
   ]
  },
  {
   "cell_type": "code",
   "execution_count": 10,
   "metadata": {},
   "outputs": [],
   "source": [
    "import pickle\n",
    "with open(r'./data/tabula_muris/preprocessed/tm_data_marrow_female.pkl', 'wb') as f:\n",
    "    pickle.dump(tm_adata, f)"
   ]
  }
 ],
 "metadata": {
  "kernelspec": {
   "display_name": ".venv",
   "language": "python",
   "name": "python3"
  },
  "language_info": {
   "codemirror_mode": {
    "name": "ipython",
    "version": 3
   },
   "file_extension": ".py",
   "mimetype": "text/x-python",
   "name": "python",
   "nbconvert_exporter": "python",
   "pygments_lexer": "ipython3",
   "version": "3.11.5"
  }
 },
 "nbformat": 4,
 "nbformat_minor": 5
}
