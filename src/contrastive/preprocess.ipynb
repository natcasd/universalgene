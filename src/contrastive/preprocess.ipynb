{
 "cells": [
  {
   "cell_type": "code",
   "execution_count": 15,
   "metadata": {},
   "outputs": [],
   "source": [
    "import scanpy as sc\n",
    "\n",
    "tm_droplet_data = sc.read(\n",
    "    r'../data/tabula_muris/TM_droplet.h5ad',\n",
    ")\n",
    "tm_facs_data = sc.read(\n",
    "    r'../data/tabula_muris/TM_facs.h5ad',\n",
    ")"
   ]
  },
  {
   "cell_type": "code",
   "execution_count": 16,
   "metadata": {},
   "outputs": [],
   "source": [
    "# Filter only for cells with valid cell ontology class\n",
    "tm_droplet_data = tm_droplet_data[\n",
    "    (~tm_droplet_data.obs.cell_ontology_class.isna())\n",
    "].copy()\n",
    "tm_facs_data = tm_facs_data[\n",
    "    (~tm_facs_data.obs.cell_ontology_class.isna())\n",
    "].copy()\n",
    "\n",
    "# Add technology labels\n",
    "tm_droplet_data.obs[\"tech\"] = \"10x\"\n",
    "tm_facs_data.obs[\"tech\"] = \"SS2\""
   ]
  },
  {
   "cell_type": "code",
   "execution_count": 17,
   "metadata": {},
   "outputs": [
    {
     "data": {
      "text/html": [
       "<div>\n",
       "<style scoped>\n",
       "    .dataframe tbody tr th:only-of-type {\n",
       "        vertical-align: middle;\n",
       "    }\n",
       "\n",
       "    .dataframe tbody tr th {\n",
       "        vertical-align: top;\n",
       "    }\n",
       "\n",
       "    .dataframe thead th {\n",
       "        text-align: right;\n",
       "    }\n",
       "</style>\n",
       "<table border=\"1\" class=\"dataframe\">\n",
       "  <thead>\n",
       "    <tr style=\"text-align: right;\">\n",
       "      <th></th>\n",
       "      <th>1</th>\n",
       "    </tr>\n",
       "    <tr>\n",
       "      <th>0</th>\n",
       "      <th></th>\n",
       "    </tr>\n",
       "  </thead>\n",
       "  <tbody>\n",
       "    <tr>\n",
       "      <th>0610007C21Rik</th>\n",
       "      <td>94.571429</td>\n",
       "    </tr>\n",
       "    <tr>\n",
       "      <th>0610007L01Rik</th>\n",
       "      <td>156.000000</td>\n",
       "    </tr>\n",
       "    <tr>\n",
       "      <th>0610007P08Rik</th>\n",
       "      <td>202.272727</td>\n",
       "    </tr>\n",
       "    <tr>\n",
       "      <th>0610007P14Rik</th>\n",
       "      <td>104.000000</td>\n",
       "    </tr>\n",
       "    <tr>\n",
       "      <th>0610007P22Rik</th>\n",
       "      <td>158.750000</td>\n",
       "    </tr>\n",
       "  </tbody>\n",
       "</table>\n",
       "</div>"
      ],
      "text/plain": [
       "                        1\n",
       "0                        \n",
       "0610007C21Rik   94.571429\n",
       "0610007L01Rik  156.000000\n",
       "0610007P08Rik  202.272727\n",
       "0610007P14Rik  104.000000\n",
       "0610007P22Rik  158.750000"
      ]
     },
     "execution_count": 17,
     "metadata": {},
     "output_type": "execute_result"
    }
   ],
   "source": [
    "import pandas as pd\n",
    "\n",
    "gene_len = pd.read_csv(\n",
    "    \"https://raw.githubusercontent.com/chenlingantelope/HarmonizationSCANVI/master/data/gene_len.txt\",\n",
    "    delimiter=\" \",\n",
    "    header=None,\n",
    "    index_col=0,\n",
    ")\n",
    "gene_len.head()"
   ]
  },
  {
   "cell_type": "code",
   "execution_count": 18,
   "metadata": {},
   "outputs": [],
   "source": [
    "import numpy as np\n",
    "from scipy import sparse\n",
    "\n",
    "gene_len = gene_len.reindex(tm_facs_data.var.index).dropna()\n",
    "\n",
    "tm_facs_data = tm_facs_data[:, gene_len.index].copy() # break the view\n",
    "\n",
    "gene_len_vec = gene_len[1].values.astype(np.float32)\n",
    "median_len = np.median(gene_len_vec)\n",
    "\n",
    "# column‑wise scaling in CSC format\n",
    "X = tm_facs_data.X.tocsc(copy=True) # -> (n_cells × n_genes)\n",
    "X = X.multiply(1.0 / gene_len_vec) # divide each column by its length\n",
    "X = X.multiply(median_len) # multiply by the median length\n",
    "X.data = np.rint(X.data) # round only the non‑zero entries\n",
    "\n",
    "tm_facs_data.X = X.tocsr() # store back as CSR (Scanpy’s default)"
   ]
  },
  {
   "cell_type": "code",
   "execution_count": 19,
   "metadata": {},
   "outputs": [],
   "source": [
    "import anndata as ad\n",
    "tm_adata = ad.concat([tm_droplet_data, tm_facs_data])"
   ]
  },
  {
   "cell_type": "code",
   "execution_count": 27,
   "metadata": {},
   "outputs": [
    {
     "name": "stdout",
     "output_type": "stream",
     "text": [
      "(356213, 18244)\n"
     ]
    }
   ],
   "source": [
    "print(tm_adata.X.shape)"
   ]
  },
  {
   "cell_type": "code",
   "execution_count": 22,
   "metadata": {},
   "outputs": [
    {
     "name": "stdout",
     "output_type": "stream",
     "text": [
      "cell_ontology_class\n",
      "B cell                      36349\n",
      "basal cell of epidermis     15645\n",
      "granulocyte                 15562\n",
      "endothelial cell            14822\n",
      "mesenchymal stem cell       14466\n",
      "                            ...  \n",
      "lymphoid progenitor cell       13\n",
      "lung neuroendocrine cell        8\n",
      "type I pneumocyte               4\n",
      "kidney cell                     3\n",
      "duct epithelial cell            2\n",
      "Name: count, Length: 155, dtype: int64\n"
     ]
    }
   ],
   "source": [
    "# Print the number of occurrences of each cell_ontology_class\n",
    "cell_ontology_class_counts = tm_adata.obs['cell_ontology_class'].value_counts()\n",
    "print(cell_ontology_class_counts)\n"
   ]
  },
  {
   "cell_type": "code",
   "execution_count": 5,
   "metadata": {},
   "outputs": [
    {
     "name": "stdout",
     "output_type": "stream",
     "text": [
      "(2, 18244)\n"
     ]
    },
    {
     "name": "stderr",
     "output_type": "stream",
     "text": [
      "/var/folders/m5/bfg16h8j2jq8fsb15brkddn00000gn/T/ipykernel_28315/3937425124.py:5: ImplicitModificationWarning: Setting element `.layers['counts']` of view, initializing view as actual.\n",
      "  tm_adata.layers[\"counts\"] = tm_adata.X.copy()\n"
     ]
    },
    {
     "ename": "",
     "evalue": "",
     "output_type": "error",
     "traceback": [
      "\u001b[1;31mThe Kernel crashed while executing code in the current cell or a previous cell. \n",
      "\u001b[1;31mPlease review the code in the cell(s) to identify a possible cause of the failure. \n",
      "\u001b[1;31mClick <a href='https://aka.ms/vscodeJupyterKernelCrash'>here</a> for more info. \n",
      "\u001b[1;31mView Jupyter <a href='command:jupyter.viewOutput'>log</a> for further details."
     ]
    }
   ],
   "source": [
    "import anndata as ad\n",
    "\n",
    "tm_adata = ad.concat([tm_droplet_data, tm_facs_data])[0:2]\n",
    "print(tm_adata.shape)\n",
    "tm_adata.layers[\"counts\"] = tm_adata.X.copy()\n",
    "sc.pp.normalize_total(tm_adata, target_sum=1e4)\n",
    "sc.pp.log1p(tm_adata)\n",
    "tm_adata.raw = tm_adata  # keep full dimension safe\n",
    "sc.pp.highly_variable_genes(\n",
    "    tm_adata,\n",
    "    flavor=\"seurat_v3\",\n",
    "    n_top_genes=2000,\n",
    "    layer=\"counts\",\n",
    "    batch_key=\"tech\",\n",
    "    subset=True,\n",
    ")"
   ]
  },
  {
   "cell_type": "code",
   "execution_count": null,
   "metadata": {},
   "outputs": [],
   "source": [
    "tm_adata.obs['cell_ontology_class'].replace(\n",
    "    to_replace='pancreatic ductal cel',\n",
    "    value='pancreatic ductal cell',\n",
    "    inplace=True\n",
    ")"
   ]
  },
  {
   "cell_type": "code",
   "execution_count": null,
   "metadata": {},
   "outputs": [],
   "source": [
    "tm_droplet_data_tissues = set(tm_droplet_data.obs.tissue)\n",
    "tm_facs_data_tissues = set(tm_facs_data.obs.tissue)\n",
    "tm_all_tissues = tm_droplet_data_tissues | tm_facs_data_tissues"
   ]
  },
  {
   "cell_type": "code",
   "execution_count": null,
   "metadata": {},
   "outputs": [],
   "source": [
    "test_tissues={'Skin', 'Liver', 'Limb_Muscle', 'Pancreas'}\n",
    "train_tissues = tm_all_tissues.difference(test_tissues)"
   ]
  },
  {
   "cell_type": "code",
   "execution_count": null,
   "metadata": {},
   "outputs": [],
   "source": [
    "tm_adata_train = tm_adata[\n",
    "    tm_adata.obs['tissue'].isin(train_tissues)\n",
    "]\n",
    "tm_adata_test = tm_adata[\n",
    "    tm_adata.obs['tissue'].isin(test_tissues)\n",
    "]"
   ]
  },
  {
   "cell_type": "code",
   "execution_count": null,
   "metadata": {},
   "outputs": [],
   "source": [
    "import pickle\n",
    "import os\n",
    "\n",
    "os.makedirs(r'./src/data/tabula_muris/preprocessed', exist_ok=True)\n",
    "\n",
    "with open(r'./src/data/tabula_muris/preprocessed/tm_adata_train.pkl', 'wb') as f: # NOTE: be careful of where this actually is LOL\n",
    "    pickle.dump(tm_adata_train, f)\n",
    "\n",
    "with open(r'./src/data/tabula_muris/preprocessed/tm_adata_test.pkl', 'wb') as f:\n",
    "    pickle.dump(tm_adata_test, f)"
   ]
  }
 ],
 "metadata": {
  "kernelspec": {
   "display_name": "base",
   "language": "python",
   "name": "python3"
  },
  "language_info": {
   "codemirror_mode": {
    "name": "ipython",
    "version": 3
   },
   "file_extension": ".py",
   "mimetype": "text/x-python",
   "name": "python",
   "nbconvert_exporter": "python",
   "pygments_lexer": "ipython3",
   "version": "3.9.12"
  }
 },
 "nbformat": 4,
 "nbformat_minor": 2
}
