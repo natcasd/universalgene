{
 "cells": [
  {
   "cell_type": "code",
   "execution_count": 4,
   "metadata": {},
   "outputs": [],
   "source": [
    "from train_contrastive import load_data"
   ]
  },
  {
   "cell_type": "code",
   "execution_count": 5,
   "metadata": {},
   "outputs": [],
   "source": [
    "path = \"../data/tabula_muris/preprocessed/tm_adata_test.pkl\"\n",
    "path_r = \"../data/tabula_muris/preprocessed_reduced/tm_adata_test.pkl\"\n",
    "\n",
    "x, domains, cells, adata = load_data(path)\n",
    "x_r, domains_r, cells_r, adata_r = load_data(path_r)"
   ]
  },
  {
   "cell_type": "code",
   "execution_count": 7,
   "metadata": {},
   "outputs": [],
   "source": [
    "from contrastive_model import ContrastiveModel\n",
    "\n",
    "CONTRASTIVE_TRANSFORMER_KEY=\"contrastive_transformer\"\n",
    "CONTRASTIVE_MLP_KEY=\"contrastive_mlp\"\n",
    "\n",
    "c_transformer_path = \"runs/attention_05-10-23:02/final.ckpt\"\n",
    "c_mlp_path = \"runs/dense_05-11-12:36/final.ckpt\"\n",
    "\n",
    "\n",
    "c_transformer = ContrastiveModel.load_from_checkpoint(c_transformer_path)\n",
    "c_mlp = ContrastiveModel.load_from_checkpoint(c_mlp_path)"
   ]
  },
  {
   "cell_type": "code",
   "execution_count": 13,
   "metadata": {},
   "outputs": [
    {
     "name": "stderr",
     "output_type": "stream",
     "text": [
      "Processing Batches: 100%|███████████████████████████████████████████████████████████| 1931/1931 [16:47<00:00,  1.92it/s]\n"
     ]
    }
   ],
   "source": [
    "import torch\n",
    "from tqdm import tqdm\n",
    "\n",
    "batch_size = 32  # Define a suitable batch size\n",
    "ct_embeddings_list = []\n",
    "cm_embeddings_list = []\n",
    "\n",
    "c_transformer.eval()\n",
    "c_mlp.eval()\n",
    "\n",
    "x = torch.tensor(x, dtype=torch.float32)\n",
    "x_r = torch.tensor(x_r, dtype=torch.float32)\n",
    "\n",
    "\n",
    "with torch.no_grad():\n",
    "    for i in tqdm(range(0, x.size(0), batch_size), desc=\"Processing Batches\"):\n",
    "        x_batch = x[i:i + batch_size]\n",
    "        x_r_batch = x_r[i:i + batch_size]\n",
    "        \n",
    "        ct_embeddings_batch = c_transformer.encoder(x_r_batch)\n",
    "        cm_embeddings_batch = c_mlp.encoder(x_batch)\n",
    "        \n",
    "        ct_embeddings_list.append(ct_embeddings_batch)\n",
    "        cm_embeddings_list.append(cm_embeddings_batch)\n",
    "\n",
    "ct_embeddings = torch.cat(ct_embeddings_list, dim=0)\n",
    "cm_embeddings = torch.cat(cm_embeddings_list, dim=0)"
   ]
  },
  {
   "cell_type": "code",
   "execution_count": 14,
   "metadata": {},
   "outputs": [
    {
     "name": "stderr",
     "output_type": "stream",
     "text": [
      "/tmp/ipykernel_1927599/491995230.py:1: ImplicitModificationWarning: Setting element `.obsm['contrastive_transformer']` of view, initializing view as actual.\n",
      "  adata.obsm[CONTRASTIVE_TRANSFORMER_KEY] = ct_embeddings.cpu().numpy()\n"
     ]
    }
   ],
   "source": [
    "adata.obsm[CONTRASTIVE_TRANSFORMER_KEY] = ct_embeddings.cpu().numpy()\n",
    "adata.obsm[CONTRASTIVE_MLP_KEY] = cm_embeddings.cpu().numpy()"
   ]
  },
  {
   "cell_type": "code",
   "execution_count": 15,
   "metadata": {},
   "outputs": [],
   "source": [
    "import scanpy as sc"
   ]
  },
  {
   "cell_type": "code",
   "execution_count": 16,
   "metadata": {},
   "outputs": [
    {
     "name": "stderr",
     "output_type": "stream",
     "text": [
      "/oscar/rt/9.2/software/0.20-generic/0.20.1/opt/spack/linux-rhel9-x86_64_v3/gcc-11.3.1/anaconda-2023.09-0-7nso27ys7navjquejqdxqylhg7kuyvxo/lib/python3.11/site-packages/scipy/sparse/_index.py:143: SparseEfficiencyWarning: Changing the sparsity structure of a csr_matrix is expensive. lil_matrix is more efficient.\n",
      "  self._set_arrayXarray(i, j, x)\n"
     ]
    }
   ],
   "source": [
    "sc.pp.neighbors(adata, use_rep=CONTRASTIVE_TRANSFORMER_KEY)  # Compute neighbors using latent space\n",
    "sc.tl.umap(adata)\n",
    "fig1 = sc.pl.umap(adata, color='tech', legend_loc=None, title='', frameon=False, size=50, return_fig=True, show=True)\n",
    "fig1.savefig('umap_transformer_final.png')"
   ]
  },
  {
   "cell_type": "code",
   "execution_count": 17,
   "metadata": {},
   "outputs": [],
   "source": [
    "sc.pp.neighbors(adata, use_rep=CONTRASTIVE_MLP_KEY)  # Compute neighbors using latent space\n",
    "sc.tl.umap(adata)\n",
    "fig = sc.pl.umap(adata, color='tech', legend_loc=None, title='', frameon=False, size=50, return_fig=True, show=True)\n",
    "fig.savefig('umap_mlp_final.png')"
   ]
  },
  {
   "cell_type": "code",
   "execution_count": 18,
   "metadata": {},
   "outputs": [
    {
     "name": "stderr",
     "output_type": "stream",
     "text": [
      "/users/ndepiero/.local/lib/python3.11/site-packages/scanpy/preprocessing/_pca/__init__.py:438: FutureWarning: Argument `use_highly_variable` is deprecated, consider using the mask argument. Use_highly_variable=True can be called through mask_var=\"highly_variable\". Use_highly_variable=False can be called through mask_var=None\n",
      "  warn(msg, FutureWarning)\n",
      "Computing neighbors:   0%|                                                                        | 0/2 [00:00<?, ?it/s]"
     ]
    },
    {
     "name": "stderr",
     "output_type": "stream",
     "text": [
      "Computing neighbors: 100%|████████████████████████████████████████████████████████████████| 2/2 [00:47<00:00, 23.89s/it]\n",
      "Embeddings:   0%|\u001b[32m                                                                                 \u001b[0m| 0/2 [00:00<?, ?it/s]\u001b[0m"
     ]
    },
    {
     "name": "stdout",
     "output_type": "stream",
     "text": [
      "\u001b[34mINFO    \u001b[0m \u001b[1;36m35\u001b[0m clusters consist of a single batch or are too small. Skip.                                             \n"
     ]
    },
    {
     "name": "stderr",
     "output_type": "stream",
     "text": [
      "Embeddings:  50%|\u001b[32m█████████████████████████████████▌                                 \u001b[0m| 1/2 [1:02:40<1:02:40, 3760.05s/it]\u001b[0m"
     ]
    },
    {
     "name": "stdout",
     "output_type": "stream",
     "text": [
      "\u001b[34mINFO    \u001b[0m \u001b[1;36m35\u001b[0m clusters consist of a single batch or are too small. Skip.                                             \n"
     ]
    },
    {
     "name": "stderr",
     "output_type": "stream",
     "text": [
      "/users/ndepiero/.local/lib/python3.11/site-packages/pynndescent/pynndescent_.py:939: UserWarning: Failed to correctly find n_neighbors for some samples. Results may be less than ideal. Try re-running with different parameters.\n",
      "  warn(\n",
      "/users/ndepiero/.local/lib/python3.11/site-packages/scib_metrics/metrics/_pcr_comparison.py:49: UserWarning: PCR comparison score is negative, meaning variance contribution increased after integration. Setting to 0.\n",
      "  warnings.warn(\n",
      "Embeddings: 100%|\u001b[32m█████████████████████████████████████████████████████████████████████\u001b[0m| 2/2 [1:57:16<00:00, 3518.01s/it]\u001b[0m\n"
     ]
    }
   ],
   "source": [
    "from scib_metrics.benchmark import Benchmarker\n",
    "bm = Benchmarker(\n",
    "    adata,\n",
    "    batch_key='tech',\n",
    "    label_key='cell_ontology_class',\n",
    "    embedding_obsm_keys=[CONTRASTIVE_TRANSFORMER_KEY, CONTRASTIVE_MLP_KEY],\n",
    "    n_jobs=-1\n",
    ")\n",
    "bm.benchmark()"
   ]
  }
 ],
 "metadata": {
  "kernelspec": {
   "display_name": "python env for universalgene project",
   "language": "python",
   "name": "universalgene"
  },
  "language_info": {
   "codemirror_mode": {
    "name": "ipython",
    "version": 3
   },
   "file_extension": ".py",
   "mimetype": "text/x-python",
   "name": "python",
   "nbconvert_exporter": "python",
   "pygments_lexer": "ipython3",
   "version": "3.11.5"
  }
 },
 "nbformat": 4,
 "nbformat_minor": 2
}
